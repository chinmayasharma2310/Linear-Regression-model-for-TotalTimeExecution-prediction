{
 "cells": [
  {
   "cell_type": "code",
   "execution_count": 25,
   "id": "b01bd168",
   "metadata": {},
   "outputs": [],
   "source": [
    "import pandas as pd\n",
    "import numpy as np\n",
    "from sklearn.model_selection import train_test_split\n",
    "from sklearn.linear_model import LinearRegression\n",
    "from sklearn.metrics import mean_squared_error,mean_absolute_error,r2_score\n"
   ]
  },
  {
   "cell_type": "code",
   "execution_count": 29,
   "id": "5f857956",
   "metadata": {},
   "outputs": [],
   "source": [
    "# Load your dataset into a DataFrame\n",
    "data = pd.read_csv('Execution_time_prediction_dataset.csv')"
   ]
  },
  {
   "cell_type": "code",
   "execution_count": 30,
   "id": "09dd3a13",
   "metadata": {},
   "outputs": [],
   "source": [
    "# Assuming you have features X and target variable y\n",
    "X = data[['total_input_tokens', 'total_number_of_chunks', 'total_output_tokens','total_number_of_steps','lines_of_code','number_of_files']]  # Example features\n",
    "y = data['total_duration']"
   ]
  },
  {
   "cell_type": "code",
   "execution_count": 31,
   "id": "bbd65e1e",
   "metadata": {},
   "outputs": [
    {
     "data": {
      "text/html": [
       "<div>\n",
       "<style scoped>\n",
       "    .dataframe tbody tr th:only-of-type {\n",
       "        vertical-align: middle;\n",
       "    }\n",
       "\n",
       "    .dataframe tbody tr th {\n",
       "        vertical-align: top;\n",
       "    }\n",
       "\n",
       "    .dataframe thead th {\n",
       "        text-align: right;\n",
       "    }\n",
       "</style>\n",
       "<table border=\"1\" class=\"dataframe\">\n",
       "  <thead>\n",
       "    <tr style=\"text-align: right;\">\n",
       "      <th></th>\n",
       "      <th>lines_of_code</th>\n",
       "      <th>number_of_files</th>\n",
       "      <th>total_duration</th>\n",
       "      <th>total_input_tokens</th>\n",
       "      <th>total_number_of_chunks</th>\n",
       "      <th>total_number_of_steps</th>\n",
       "      <th>total_output_tokens</th>\n",
       "    </tr>\n",
       "  </thead>\n",
       "  <tbody>\n",
       "    <tr>\n",
       "      <th>0</th>\n",
       "      <td>23</td>\n",
       "      <td>1</td>\n",
       "      <td>11.237</td>\n",
       "      <td>34267</td>\n",
       "      <td>1</td>\n",
       "      <td>61</td>\n",
       "      <td>11082</td>\n",
       "    </tr>\n",
       "    <tr>\n",
       "      <th>1</th>\n",
       "      <td>23</td>\n",
       "      <td>1</td>\n",
       "      <td>1.429</td>\n",
       "      <td>2451</td>\n",
       "      <td>1</td>\n",
       "      <td>6</td>\n",
       "      <td>1216</td>\n",
       "    </tr>\n",
       "    <tr>\n",
       "      <th>2</th>\n",
       "      <td>23</td>\n",
       "      <td>1</td>\n",
       "      <td>2.339</td>\n",
       "      <td>2589</td>\n",
       "      <td>1</td>\n",
       "      <td>6</td>\n",
       "      <td>1298</td>\n",
       "    </tr>\n",
       "    <tr>\n",
       "      <th>3</th>\n",
       "      <td>23</td>\n",
       "      <td>1</td>\n",
       "      <td>1.598</td>\n",
       "      <td>2397</td>\n",
       "      <td>1</td>\n",
       "      <td>6</td>\n",
       "      <td>1199</td>\n",
       "    </tr>\n",
       "    <tr>\n",
       "      <th>4</th>\n",
       "      <td>23</td>\n",
       "      <td>1</td>\n",
       "      <td>19.538</td>\n",
       "      <td>25710</td>\n",
       "      <td>1</td>\n",
       "      <td>61</td>\n",
       "      <td>7730</td>\n",
       "    </tr>\n",
       "    <tr>\n",
       "      <th>5</th>\n",
       "      <td>23</td>\n",
       "      <td>1</td>\n",
       "      <td>3.791</td>\n",
       "      <td>2515</td>\n",
       "      <td>1</td>\n",
       "      <td>8</td>\n",
       "      <td>2085</td>\n",
       "    </tr>\n",
       "    <tr>\n",
       "      <th>6</th>\n",
       "      <td>23</td>\n",
       "      <td>1</td>\n",
       "      <td>4.572</td>\n",
       "      <td>1257</td>\n",
       "      <td>1</td>\n",
       "      <td>8</td>\n",
       "      <td>1399</td>\n",
       "    </tr>\n",
       "    <tr>\n",
       "      <th>7</th>\n",
       "      <td>23</td>\n",
       "      <td>1</td>\n",
       "      <td>6.240</td>\n",
       "      <td>1750</td>\n",
       "      <td>1</td>\n",
       "      <td>10</td>\n",
       "      <td>1466</td>\n",
       "    </tr>\n",
       "    <tr>\n",
       "      <th>8</th>\n",
       "      <td>23</td>\n",
       "      <td>1</td>\n",
       "      <td>4.393</td>\n",
       "      <td>3019</td>\n",
       "      <td>1</td>\n",
       "      <td>10</td>\n",
       "      <td>2437</td>\n",
       "    </tr>\n",
       "    <tr>\n",
       "      <th>9</th>\n",
       "      <td>23</td>\n",
       "      <td>1</td>\n",
       "      <td>3.724</td>\n",
       "      <td>2237</td>\n",
       "      <td>1</td>\n",
       "      <td>10</td>\n",
       "      <td>2102</td>\n",
       "    </tr>\n",
       "  </tbody>\n",
       "</table>\n",
       "</div>"
      ],
      "text/plain": [
       "   lines_of_code  number_of_files  total_duration  total_input_tokens  \\\n",
       "0             23                1          11.237               34267   \n",
       "1             23                1           1.429                2451   \n",
       "2             23                1           2.339                2589   \n",
       "3             23                1           1.598                2397   \n",
       "4             23                1          19.538               25710   \n",
       "5             23                1           3.791                2515   \n",
       "6             23                1           4.572                1257   \n",
       "7             23                1           6.240                1750   \n",
       "8             23                1           4.393                3019   \n",
       "9             23                1           3.724                2237   \n",
       "\n",
       "   total_number_of_chunks  total_number_of_steps  total_output_tokens  \n",
       "0                       1                     61                11082  \n",
       "1                       1                      6                 1216  \n",
       "2                       1                      6                 1298  \n",
       "3                       1                      6                 1199  \n",
       "4                       1                     61                 7730  \n",
       "5                       1                      8                 2085  \n",
       "6                       1                      8                 1399  \n",
       "7                       1                     10                 1466  \n",
       "8                       1                     10                 2437  \n",
       "9                       1                     10                 2102  "
      ]
     },
     "execution_count": 31,
     "metadata": {},
     "output_type": "execute_result"
    }
   ],
   "source": [
    "data.head(10)"
   ]
  },
  {
   "cell_type": "code",
   "execution_count": 32,
   "id": "006a6456",
   "metadata": {},
   "outputs": [
    {
     "data": {
      "text/plain": [
       "Index(['lines_of_code', 'number_of_files', 'total_duration',\n",
       "       'total_input_tokens', 'total_number_of_chunks', 'total_number_of_steps',\n",
       "       'total_output_tokens'],\n",
       "      dtype='object')"
      ]
     },
     "execution_count": 32,
     "metadata": {},
     "output_type": "execute_result"
    }
   ],
   "source": [
    "data.columns"
   ]
  },
  {
   "cell_type": "code",
   "execution_count": 33,
   "id": "a8ddcd0e",
   "metadata": {},
   "outputs": [],
   "source": [
    "# Split data into training and testing sets\n",
    "X_train, X_test, y_train, y_test = train_test_split(X, y, test_size=0.2, random_state=42)"
   ]
  },
  {
   "cell_type": "code",
   "execution_count": 34,
   "id": "1399a64b",
   "metadata": {},
   "outputs": [],
   "source": [
    "# Initialize Linear Regression model\n",
    "model = LinearRegression()"
   ]
  },
  {
   "cell_type": "code",
   "execution_count": 35,
   "id": "dc7c5491",
   "metadata": {},
   "outputs": [
    {
     "data": {
      "text/plain": [
       "LinearRegression()"
      ]
     },
     "execution_count": 35,
     "metadata": {},
     "output_type": "execute_result"
    }
   ],
   "source": [
    "# Train the model\n",
    "model.fit(X_train, y_train)"
   ]
  },
  {
   "cell_type": "code",
   "execution_count": 36,
   "id": "2dc302fa",
   "metadata": {},
   "outputs": [
    {
     "name": "stdout",
     "output_type": "stream",
     "text": [
      "[ 0.3078635   9.99516896  4.85655485  8.99315256  1.55182066  0.3078635\n",
      "  4.5481133   4.10507242  0.85831451  1.48898699  0.3078635   1.83893241\n",
      "  1.53209416  0.28140935 -0.24148033 13.49716826  0.97670282  0.859712\n",
      "  1.07503377  1.61677992  0.3078635   0.859712    1.32516179  1.66048873]\n"
     ]
    }
   ],
   "source": [
    "# Make predictions on the test set\n",
    "predictions = model.predict(X_test)\n",
    "print(predictions)"
   ]
  },
  {
   "cell_type": "code",
   "execution_count": 37,
   "id": "ee066b01",
   "metadata": {},
   "outputs": [
    {
     "name": "stdout",
     "output_type": "stream",
     "text": [
      "Mean Squared Error: 5.1149507108362355\n"
     ]
    }
   ],
   "source": [
    "# Evaluate the model\n",
    "mse = mean_squared_error(y_test, predictions)\n",
    "print(\"Mean Squared Error:\", mse)"
   ]
  },
  {
   "cell_type": "code",
   "execution_count": 38,
   "id": "7f3ee6f4",
   "metadata": {},
   "outputs": [
    {
     "name": "stdout",
     "output_type": "stream",
     "text": [
      "Mean Absolute Error: 1.1458482867578195\n"
     ]
    }
   ],
   "source": [
    "mae = mean_absolute_error(y_test, predictions)\n",
    "print(\"Mean Absolute Error:\", mae)"
   ]
  },
  {
   "cell_type": "code",
   "execution_count": 39,
   "id": "dfd64f66",
   "metadata": {},
   "outputs": [
    {
     "name": "stdout",
     "output_type": "stream",
     "text": [
      "R-squared Score: 76.58835527973409\n"
     ]
    }
   ],
   "source": [
    "r2 = r2_score(y_test, predictions)\n",
    "print(\"R-squared Score:\",r2*100)"
   ]
  },
  {
   "cell_type": "code",
   "execution_count": 44,
   "id": "18e905e1",
   "metadata": {},
   "outputs": [
    {
     "name": "stdout",
     "output_type": "stream",
     "text": [
      "Estimated Execution Time for Sample Input: [7.14301007]\n"
     ]
    },
    {
     "name": "stderr",
     "output_type": "stream",
     "text": [
      "C:\\Users\\chinmaya.sharma\\Anaconda3\\lib\\site-packages\\sklearn\\base.py:450: UserWarning: X does not have valid feature names, but LinearRegression was fitted with feature names\n",
      "  warnings.warn(\n"
     ]
    }
   ],
   "source": [
    "# Sample prediction\n",
    "sample_input = np.array([[23,1,1168, 2,706,5]])\n",
    "estimated_execution_time = model.predict(sample_input)\n",
    "print(\"Estimated Execution Time for Sample Input:\", estimated_execution_time)\n"
   ]
  },
  {
   "cell_type": "code",
   "execution_count": 41,
   "id": "bee01f53",
   "metadata": {},
   "outputs": [
    {
     "data": {
      "text/plain": [
       "<AxesSubplot:>"
      ]
     },
     "execution_count": 41,
     "metadata": {},
     "output_type": "execute_result"
    },
    {
     "data": {
      "image/png": "[encoded data removed]",
      "text/plain": [
       "<Figure size 720x504 with 2 Axes>"
      ]
     },
     "metadata": {
      "needs_background": "light"
     },
     "output_type": "display_data"
    }
   ],
   "source": [
    "# Plot the Correlation map to see how features are correlated with target: SalePrice\n",
    "\n",
    "import matplotlib.pyplot as plt\n",
    "import seaborn as sns\n",
    "\n",
    "corr_matrix = data.corr()\n",
    "plt.subplots(figsize=(10,7))\n",
    "sns.heatmap(corr_matrix, vmax=0.9, square=True)"
   ]
  },
  {
   "cell_type": "code",
   "execution_count": null,
   "id": "745b932c",
   "metadata": {},
   "outputs": [],
   "source": []
  }
 ],
 "metadata": {
  "kernelspec": {
   "display_name": "Python 3 (ipykernel)",
   "language": "python",
   "name": "python3"
  },
  "language_info": {
   "codemirror_mode": {
    "name": "ipython",
    "version": 3
   },
   "file_extension": ".py",
   "mimetype": "text/x-python",
   "name": "python",
   "nbconvert_exporter": "python",
   "pygments_lexer": "ipython3",
   "version": "3.9.12"
  }
 },
 "nbformat": 4,
 "nbformat_minor": 5
}
